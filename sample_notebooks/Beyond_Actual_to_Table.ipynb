{
 "cells": [
  {
   "cell_type": "markdown",
   "id": "d8fc5823-2bd0-41f4-a44d-95dcb0664b06",
   "metadata": {},
   "source": [
    "Working notes\n",
    "* Site: https://www.soa.org/resources/experience-studies/2017/2009-13-indiv-life-ins-mort-exp/\n",
    "* Appendices: https://www.soa.org/globalassets/assets/files/research/exp-study/2009-13-indiv-life-ins-mort-exp-appendix.xlsx\n",
    "\n",
    "Note: the zip of the csv is also at the site.\n",
    "\n",
    "This work is based off duplicating appendix G.  My old data selection did not quite duplicate appendix G.  The totals in the published appendix across products do not match the rows, so I'm not going to sweat duplicating that here."
   ]
  },
  {
   "cell_type": "markdown",
   "id": "4d609e1f-55b8-4db7-aeb5-27e7311d5a89",
   "metadata": {},
   "source": [
    "# Initialize libraries"
   ]
  },
  {
   "cell_type": "code",
   "execution_count": 1,
   "id": "43cf9b31-0917-4951-a040-8b2887aa4043",
   "metadata": {},
   "outputs": [],
   "source": [
    "import os\n",
    "import sys\n",
    "import re\n",
    "import pandas as pd\n",
    "import numpy as np\n",
    "from pathlib import Path\n",
    "\n",
    "# In case you haven't installed ILECTools, this bit will get the ilectools directory into \n",
    "# your search path to its functions can be imported.\n",
    "\n",
    "dir_home = str(Path.home())\n",
    "if not any([Path(_p).name=='ILECTools' for _p in sys.path]):\n",
    "    sys.path.append(dir_home + '/dev/ILECTools') # is where it is on this machine\n",
    "\n",
    "# Fields aggregated here, value columns\n",
    "valcols = ['policy_actual', 'policy_2015vbt', 'amount_actual', 'amount_2015vbt']    \n",
    "\n",
    "# variables used in the model\n",
    "exogvars = 'uw,face_amount_band,observation_year,dur_band1,ia_band1,gender,insurance_plan,ltp,iy_band1'.split(',')\n",
    "\n",
    "\n",
    "from importlib import reload\n",
    "from ilectools import glmtools\n",
    "glmtools = reload(glmtools)\n",
    "from ilectools.glmtools import GLMRun"
   ]
  },
  {
   "cell_type": "markdown",
   "id": "c2e0d136-ebcb-4525-9d3a-3d0cb9ec3640",
   "metadata": {},
   "source": [
    "# Utility functions"
   ]
  },
  {
   "cell_type": "code",
   "execution_count": 2,
   "id": "1ce1ac79-8f65-46be-ac73-75acb7c99cf1",
   "metadata": {},
   "outputs": [],
   "source": [
    "def add_cols(df):\n",
    "    '''Add certain columns to the dataframe and reteturn it.'''\n",
    "    \n",
    "    # I don't like 'Not Level Term' and \"N/A (Not Term)\" both being in there, should probably have consolidated them\n",
    "    # level term period for this purpose\n",
    "    df['ltp'] = (df.soa_anticipated_level_term_period.replace(\n",
    "        {'20 yr anticipated': '20 yr or N/A (Not Term)',\n",
    "         'N/A (Not Term)': '20 yr or N/A (Not Term)'}\n",
    "        ).str.replace(' anticipated', '')\n",
    "                )\n",
    "    \n",
    "    # duration bands in the original paper\n",
    "    if not 'dur_band1' in df and 'duration' in df:\n",
    "        df['dur_band1'] = 'n/a' # a default, which will get overridden\n",
    "        for band, durs in {\n",
    "            '01':[1],\n",
    "            '02':[2],\n",
    "            '03':[3],\n",
    "            '04-05':[4,5],\n",
    "            '06-10':range(6,11),\n",
    "            '11-15':range(11,16),\n",
    "            '16-20':range(16,21),\n",
    "            '21-25':range(21,26)}.items():\n",
    "            df.loc[df.duration.isin(durs), 'dur_band1'] = band\n",
    "        df.loc[df.duration>25, 'dur_band1'] = '26-150'\n",
    "\n",
    "    if not 'ia_band1' in df and 'issue_age' in df:\n",
    "        df['ia_band1'] = '18-24'\n",
    "        for a in range(25, 95, 5):\n",
    "            df.loc[df.issue_age.between(a, a+4), 'ia_band1'] = f'{a}-{a+4}'\n",
    "        df.loc[df.issue_age>94, 'ia_band1'] = '95+'\n",
    "        if df.issue_age.min() < 18:\n",
    "            df.loc[df.issue_age<18, 'ia_band1'] = '00-18'\n",
    "            \n",
    "    if not 'iy_band1' in df and 'issue_year' in df:    \n",
    "        df['iy_band1'] = '1900-1989'\n",
    "        df.loc[df.issue_year.between(1990, 1999), 'iy_band1'] = '1990-1999'\n",
    "        df.loc[df.issue_year.between(2000, 2009), 'iy_band1'] = '2000-2009'\n",
    "        df.loc[df.issue_year >=  2010, 'iy_band1'] = '2010-'\n",
    "\n",
    "    return df"
   ]
  },
  {
   "cell_type": "markdown",
   "id": "1470dbd8-e30e-455e-ace5-59301caa35d0",
   "metadata": {},
   "source": [
    "# Initialize data"
   ]
  },
  {
   "cell_type": "code",
   "execution_count": 3,
   "id": "4914f219-ff50-46d6-8978-73b7f29cff0e",
   "metadata": {},
   "outputs": [],
   "source": [
    "%config Completer.use_jedi=False"
   ]
  },
  {
   "cell_type": "code",
   "execution_count": 4,
   "id": "dd320ce1-4af0-4c11-9921-17ce161eaf5f",
   "metadata": {},
   "outputs": [
    {
     "name": "stdout",
     "output_type": "stream",
     "text": [
      "CPU times: user 37.1 s, sys: 13.5 s, total: 50.6 s\n",
      "Wall time: 47.6 s\n"
     ]
    },
    {
     "data": {
      "text/plain": [
       "35"
      ]
     },
     "execution_count": 4,
     "metadata": {},
     "output_type": "execute_result"
    }
   ],
   "source": [
    "%%time\n",
    "data = add_cols(pd.read_parquet(dir_home + '/data/ilec/Data/Processed/2021_published/ILEC 2009-18 20210528_v2.parquet'))\n",
    "\n",
    "# There happen to be some records with no exposure, they also have no tabular expecteds, and will hurt\n",
    "# when the log of the tabular expecteds are taken later.\n",
    "data= data[(data.amount_exposure>0) & (data.policy_exposure>0)]\n",
    "\n",
    "# subset of data for exhibit g, the example used in \n",
    "data_exhibit_g = data[(data.soa_post_level_term_indicator != 'Post Level Term')\n",
    "                      & (data.duration < 26) # select only\n",
    "                      & (data.observation_year < 2014) # for consistency with the report, update if you like\n",
    "                      & (data.issue_age > 17) # no juvies pls\n",
    "                     ]\n",
    "\n",
    "del data # why not free up a few gb of RAM\n",
    "# tidiness\n",
    "import gc\n",
    "gc.collect()"
   ]
  },
  {
   "cell_type": "markdown",
   "id": "0df8b632-5b28-441f-8e45-dbaa3019bffe",
   "metadata": {},
   "source": [
    "# Models"
   ]
  },
  {
   "cell_type": "code",
   "execution_count": 5,
   "id": "0eee3a98-f1cd-48de-b262-0b683a893398",
   "metadata": {},
   "outputs": [],
   "source": [
    "pd.options.display.float_format = '{:,.0f}'.format\n",
    "pd.options.display.width=255"
   ]
  },
  {
   "cell_type": "code",
   "execution_count": 6,
   "id": "20dccb81-d094-467f-bccb-589e40eeeedf",
   "metadata": {},
   "outputs": [],
   "source": [
    "# model will run better on a summary - or: will run at all\n",
    "data_exhibit_g_summary = data_exhibit_g.pivot_table(index=exogvars, values=valcols, aggfunc=np.sum).reset_index()"
   ]
  },
  {
   "cell_type": "code",
   "execution_count": 7,
   "id": "b54fa20c-ee52-4ce4-b70b-37203d7b52a3",
   "metadata": {},
   "outputs": [
    {
     "name": "stdout",
     "output_type": "stream",
     "text": [
      "2022-05-01 14:14:40.127930 Fitting ...\n",
      "2022-05-01 14:15:13.545355 ... fit.\n",
      "2022-05-01 14:15:13.545453 Fitting ...\n",
      "2022-05-01 14:15:51.400372 ... fit.\n",
      "CPU times: user 6min 18s, sys: 1min 51s, total: 8min 10s\n",
      "Wall time: 1min 11s\n"
     ]
    }
   ],
   "source": [
    "%%time\n",
    "# get policy and amount models\n",
    "models = {\n",
    "    m:GLMRun(\n",
    "        offsetcol=f'{m}_2015vbt'\n",
    "      , formula = f\"\"\"{m}_actual ~\n",
    "    + C(uw, Treatment(reference='N/2/1'))\n",
    "    + C(dur_band1, Treatment(reference='06-10'))\n",
    "    + C(face_amount_band, Treatment(reference='  100000-249999'))\n",
    "    + C(ia_band1, Treatment(reference='40-44'))\n",
    "    + C(gender)\n",
    "    + C(observation_year)\n",
    "    + C(insurance_plan, Treatment(reference='Term'))\n",
    "    + C(ltp, Treatment(reference='20 yr or N/A (Not Term)'))\n",
    "    + C(iy_band1)\n",
    "    \"\"\"\n",
    "      , data = data_exhibit_g_summary\n",
    "    )\n",
    "    \n",
    "    for m\n",
    "    in ['policy', 'amount']\n",
    "}"
   ]
  },
  {
   "cell_type": "markdown",
   "id": "20207eec-4927-48d2-b7a9-62ff1faf0f39",
   "metadata": {},
   "source": [
    "# Now finish the exhibits"
   ]
  },
  {
   "cell_type": "code",
   "execution_count": 10,
   "id": "b873014b-5223-4ab6-8e2b-633ce52c2bc4",
   "metadata": {},
   "outputs": [],
   "source": [
    "m = models['policy']"
   ]
  },
  {
   "cell_type": "code",
   "execution_count": 68,
   "id": "a15f750e-0310-4dd5-a6aa-11395ff94c54",
   "metadata": {},
   "outputs": [],
   "source": [
    "import networkx as nx\n",
    "import itertools\n",
    "from functools import reduce"
   ]
  },
  {
   "cell_type": "code",
   "execution_count": 250,
   "id": "f4ec53b0-1b1f-4f37-a6f9-f0c8f86480e1",
   "metadata": {},
   "outputs": [],
   "source": [
    "from ilectools.glmtools import results_summary_to_dataframe, getKV\n",
    "\n",
    "\n",
    "ilectools.glmtools.GLMRun.getCoef = getCoef\n",
    "\n",
    "z = getCoef(m)"
   ]
  },
  {
   "cell_type": "code",
   "execution_count": 251,
   "id": "a8bf16c4-7990-421f-a05a-b786036fa849",
   "metadata": {},
   "outputs": [
    {
     "data": {
      "text/plain": [
       "FrozenList(['ia_band1'])"
      ]
     },
     "execution_count": 251,
     "metadata": {},
     "output_type": "execute_result"
    }
   ],
   "source": [
    "z[0].index.names"
   ]
  },
  {
   "cell_type": "code",
   "execution_count": 238,
   "id": "1940ac32-646e-47f4-ab30-6c0f5230a8d4",
   "metadata": {},
   "outputs": [
    {
     "data": {
      "text/plain": [
       "('ia_band1',)"
      ]
     },
     "execution_count": 238,
     "metadata": {},
     "output_type": "execute_result"
    }
   ],
   "source": [
    "tuple(z[0].index.names)"
   ]
  },
  {
   "cell_type": "code",
   "execution_count": 254,
   "id": "78c6c320-9d33-444c-a7ee-55823da14da5",
   "metadata": {},
   "outputs": [],
   "source": [
    "jnk = pd.DataFrame(index=range(3), columns=['x','y'])"
   ]
  },
  {
   "cell_type": "code",
   "execution_count": 256,
   "id": "47a0262d-21f1-465d-a44b-45f77e46a3b7",
   "metadata": {},
   "outputs": [
    {
     "data": {
      "text/plain": [
       "1"
      ]
     },
     "execution_count": 256,
     "metadata": {},
     "output_type": "execute_result"
    }
   ],
   "source": [
    "jnk.index.ndim"
   ]
  },
  {
   "cell_type": "code",
   "execution_count": 259,
   "id": "ace60400-9beb-444b-a4d9-9a859611e238",
   "metadata": {},
   "outputs": [],
   "source": []
  },
  {
   "cell_type": "code",
   "execution_count": 260,
   "id": "2700f976-1a0e-43d7-89e0-bb9c92b6d6e8",
   "metadata": {},
   "outputs": [],
   "source": [
    "\n",
    "coefOrig = getCoef(m) #m.getCoef()"
   ]
  },
  {
   "cell_type": "code",
   "execution_count": 261,
   "id": "abf9c445-13c7-4acd-b0dd-06fce3e25a5d",
   "metadata": {},
   "outputs": [],
   "source": [
    "x = getSubgraphs(coefOrig)"
   ]
  },
  {
   "cell_type": "code",
   "execution_count": 266,
   "id": "1b66ee3e-ffbe-42d8-b0e5-cc7efdfedb94",
   "metadata": {},
   "outputs": [],
   "source": [
    "jnk = {_.index.names[0]:_ for _ in compareFactorsAE(m)}#.style.format('{:,.2%}')"
   ]
  },
  {
   "cell_type": "code",
   "execution_count": 268,
   "id": "dd4f1495-bda6-4285-a93c-46459f59cdc0",
   "metadata": {},
   "outputs": [
    {
     "data": {
      "text/html": [
       "<style type=\"text/css\">\n",
       "</style>\n",
       "<table id=\"T_8f52d\">\n",
       "  <thead>\n",
       "    <tr>\n",
       "      <th class=\"blank level0\" >&nbsp;</th>\n",
       "      <th id=\"T_8f52d_level0_col0\" class=\"col_heading level0 col0\" >Factor</th>\n",
       "      <th id=\"T_8f52d_level0_col1\" class=\"col_heading level0 col1\" >A/Table</th>\n",
       "    </tr>\n",
       "    <tr>\n",
       "      <th class=\"index_name level0\" >insurance_plan</th>\n",
       "      <th class=\"blank col0\" >&nbsp;</th>\n",
       "      <th class=\"blank col1\" >&nbsp;</th>\n",
       "    </tr>\n",
       "  </thead>\n",
       "  <tbody>\n",
       "    <tr>\n",
       "      <th id=\"T_8f52d_level0_row0\" class=\"row_heading level0 row0\" >Other</th>\n",
       "      <td id=\"T_8f52d_row0_col0\" class=\"data row0 col0\" >134.06%</td>\n",
       "      <td id=\"T_8f52d_row0_col1\" class=\"data row0 col1\" >158.84%</td>\n",
       "    </tr>\n",
       "    <tr>\n",
       "      <th id=\"T_8f52d_level0_row1\" class=\"row_heading level0 row1\" >Perm</th>\n",
       "      <td id=\"T_8f52d_row1_col0\" class=\"data row1 col0\" >94.12%</td>\n",
       "      <td id=\"T_8f52d_row1_col1\" class=\"data row1 col1\" >121.00%</td>\n",
       "    </tr>\n",
       "    <tr>\n",
       "      <th id=\"T_8f52d_level0_row2\" class=\"row_heading level0 row2\" >Term</th>\n",
       "      <td id=\"T_8f52d_row2_col0\" class=\"data row2 col0\" >100.00%</td>\n",
       "      <td id=\"T_8f52d_row2_col1\" class=\"data row2 col1\" >104.76%</td>\n",
       "    </tr>\n",
       "    <tr>\n",
       "      <th id=\"T_8f52d_level0_row3\" class=\"row_heading level0 row3\" >UL</th>\n",
       "      <td id=\"T_8f52d_row3_col0\" class=\"data row3 col0\" >106.72%</td>\n",
       "      <td id=\"T_8f52d_row3_col1\" class=\"data row3 col1\" >120.73%</td>\n",
       "    </tr>\n",
       "    <tr>\n",
       "      <th id=\"T_8f52d_level0_row4\" class=\"row_heading level0 row4\" >ULSG</th>\n",
       "      <td id=\"T_8f52d_row4_col0\" class=\"data row4 col0\" >102.03%</td>\n",
       "      <td id=\"T_8f52d_row4_col1\" class=\"data row4 col1\" >102.34%</td>\n",
       "    </tr>\n",
       "    <tr>\n",
       "      <th id=\"T_8f52d_level0_row5\" class=\"row_heading level0 row5\" >VL</th>\n",
       "      <td id=\"T_8f52d_row5_col0\" class=\"data row5 col0\" >97.73%</td>\n",
       "      <td id=\"T_8f52d_row5_col1\" class=\"data row5 col1\" >107.18%</td>\n",
       "    </tr>\n",
       "    <tr>\n",
       "      <th id=\"T_8f52d_level0_row6\" class=\"row_heading level0 row6\" >VLSG</th>\n",
       "      <td id=\"T_8f52d_row6_col0\" class=\"data row6 col0\" >96.87%</td>\n",
       "      <td id=\"T_8f52d_row6_col1\" class=\"data row6 col1\" >111.05%</td>\n",
       "    </tr>\n",
       "  </tbody>\n",
       "</table>\n"
      ],
      "text/plain": [
       "<pandas.io.formats.style.Styler at 0x7fe9276249a0>"
      ]
     },
     "execution_count": 268,
     "metadata": {},
     "output_type": "execute_result"
    }
   ],
   "source": [
    "jnk['insurance_plan'].style.format('{:,.2%}')"
   ]
  },
  {
   "cell_type": "code",
   "execution_count": 269,
   "id": "d7a2cfd1-eebb-40eb-acd9-00d17a41eec9",
   "metadata": {},
   "outputs": [
    {
     "ename": "TypeError",
     "evalue": "reduce() of empty iterable with no initial value",
     "output_type": "error",
     "traceback": [
      "\u001b[0;31m---------------------------------------------------------------------------\u001b[0m",
      "\u001b[0;31mTypeError\u001b[0m                                 Traceback (most recent call last)",
      "Input \u001b[0;32mIn [269]\u001b[0m, in \u001b[0;36m<cell line: 1>\u001b[0;34m()\u001b[0m\n\u001b[0;32m----> 1\u001b[0m \u001b[43mm\u001b[49m\u001b[38;5;241;43m.\u001b[39;49m\u001b[43mfactorAnalysisExhibit\u001b[49m\u001b[43m(\u001b[49m\u001b[38;5;124;43m'\u001b[39;49m\u001b[38;5;124;43minsurance_plan\u001b[39;49m\u001b[38;5;124;43m'\u001b[39;49m\u001b[43m)\u001b[49m\n",
      "File \u001b[0;32m~/dev/ILECTools/ilectools/glmtools.py:393\u001b[0m, in \u001b[0;36mGLMRun.factorAnalysisExhibit\u001b[0;34m(self, forEach)\u001b[0m\n\u001b[1;32m    381\u001b[0m \u001b[38;5;28;01mdef\u001b[39;00m \u001b[38;5;21mfactorAnalysisExhibit\u001b[39m(\u001b[38;5;28mself\u001b[39m, forEach):\n\u001b[1;32m    382\u001b[0m     \u001b[38;5;124;03m\"\"\"Show across categories in forEach: \u001b[39;00m\n\u001b[1;32m    383\u001b[0m \u001b[38;5;124;03m    \u001b[39;00m\n\u001b[1;32m    384\u001b[0m \u001b[38;5;124;03m    A/Table\u001b[39;00m\n\u001b[0;32m   (...)\u001b[0m\n\u001b[1;32m    391\u001b[0m \u001b[38;5;124;03m       \u001b[39;00m\n\u001b[1;32m    392\u001b[0m \u001b[38;5;124;03m   ... Compare factors for a split with the average factor in the applicable other categories and a/table\"\"\"\u001b[39;00m\n\u001b[0;32m--> 393\u001b[0m     cf \u001b[38;5;241m=\u001b[39m {_df\u001b[38;5;241m.\u001b[39mindex\u001b[38;5;241m.\u001b[39mname:_df \u001b[38;5;28;01mfor\u001b[39;00m _df \u001b[38;5;129;01min\u001b[39;00m \u001b[38;5;28;43mself\u001b[39;49m\u001b[38;5;241;43m.\u001b[39;49m\u001b[43mcompareFactorsAE\u001b[49m\u001b[43m(\u001b[49m\u001b[43m)\u001b[49m}[forEach]\u001b[38;5;241m.\u001b[39mT\n\u001b[1;32m    394\u001b[0m     cfa \u001b[38;5;241m=\u001b[39m \u001b[38;5;28mself\u001b[39m\u001b[38;5;241m.\u001b[39mcompFactorAvg(forEach) \u001b[38;5;66;03m# the average factor: must exclude category forEach from this becasue is shown\u001b[39;00m\n\u001b[1;32m    395\u001b[0m              \u001b[38;5;66;03m# as factor already\u001b[39;00m\n\u001b[1;32m    396\u001b[0m     \u001b[38;5;66;03m# Show intercept (overall factor) and take out the one that we're splitting by since we show it already\u001b[39;00m\n",
      "File \u001b[0;32m~/dev/ILECTools/ilectools/glmtools.py:247\u001b[0m, in \u001b[0;36mGLMRun.compareFactorsAE\u001b[0;34m(self, *args, **kwargs)\u001b[0m\n\u001b[1;32m    245\u001b[0m comp \u001b[38;5;241m=\u001b[39m []\n\u001b[1;32m    246\u001b[0m \u001b[38;5;28;01mfor\u001b[39;00m sg \u001b[38;5;129;01min\u001b[39;00m getSubgraphs(coefOrig): \u001b[38;5;66;03m# must group the coefficients into groups that will be added together\u001b[39;00m\n\u001b[0;32m--> 247\u001b[0m     indexnames \u001b[38;5;241m=\u001b[39m \u001b[38;5;28mlist\u001b[39m(\u001b[43mreduce\u001b[49m\u001b[43m(\u001b[49m\u001b[38;5;28;43mset\u001b[39;49m\u001b[38;5;241;43m.\u001b[39;49m\u001b[43munion\u001b[49m\u001b[43m,\u001b[49m\u001b[43m \u001b[49m\u001b[38;5;28;43mmap\u001b[39;49m\u001b[43m(\u001b[49m\u001b[38;5;28;43mset\u001b[39;49m\u001b[43m,\u001b[49m\u001b[43m \u001b[49m\u001b[43msg\u001b[49m\u001b[43m)\u001b[49m\u001b[43m)\u001b[49m) \u001b[38;5;66;03m# list if the names of fields in the index\u001b[39;00m\n\u001b[1;32m    248\u001b[0m     ae \u001b[38;5;241m=\u001b[39m df\u001b[38;5;241m.\u001b[39mpivot_table(index \u001b[38;5;241m=\u001b[39m indexnames, values \u001b[38;5;241m=\u001b[39m [a,e], aggfunc\u001b[38;5;241m=\u001b[39mnp\u001b[38;5;241m.\u001b[39msum)\n\u001b[1;32m    249\u001b[0m     ae \u001b[38;5;241m=\u001b[39m ae[a] \u001b[38;5;241m/\u001b[39m ae[e]\n",
      "\u001b[0;31mTypeError\u001b[0m: reduce() of empty iterable with no initial value"
     ]
    }
   ],
   "source": [
    "m.factorAnalysisExhibit('insurance_plan')"
   ]
  },
  {
   "cell_type": "code",
   "execution_count": 37,
   "id": "ef7aee41-0b2c-4d8e-8451-75d0a9b3693d",
   "metadata": {},
   "outputs": [
    {
     "ename": "TypeError",
     "evalue": "reduce() of empty iterable with no initial value",
     "output_type": "error",
     "traceback": [
      "\u001b[0;31m---------------------------------------------------------------------------\u001b[0m",
      "\u001b[0;31mTypeError\u001b[0m                                 Traceback (most recent call last)",
      "Input \u001b[0;32mIn [37]\u001b[0m, in \u001b[0;36m<cell line: 1>\u001b[0;34m()\u001b[0m\n\u001b[0;32m----> 1\u001b[0m \u001b[43mm\u001b[49m\u001b[38;5;241;43m.\u001b[39;49m\u001b[43mcompareFactorsAE\u001b[49m\u001b[43m(\u001b[49m\u001b[43m)\u001b[49m\n",
      "File \u001b[0;32m~/dev/ILECTools/ilectools/glmtools.py:247\u001b[0m, in \u001b[0;36mGLMRun.compareFactorsAE\u001b[0;34m(self, *args, **kwargs)\u001b[0m\n\u001b[1;32m    245\u001b[0m comp \u001b[38;5;241m=\u001b[39m []\n\u001b[1;32m    246\u001b[0m \u001b[38;5;28;01mfor\u001b[39;00m sg \u001b[38;5;129;01min\u001b[39;00m getSubgraphs(coefOrig): \u001b[38;5;66;03m# must group the coefficients into groups that will be added together\u001b[39;00m\n\u001b[0;32m--> 247\u001b[0m     indexnames \u001b[38;5;241m=\u001b[39m \u001b[38;5;28mlist\u001b[39m(\u001b[43mreduce\u001b[49m\u001b[43m(\u001b[49m\u001b[38;5;28;43mset\u001b[39;49m\u001b[38;5;241;43m.\u001b[39;49m\u001b[43munion\u001b[49m\u001b[43m,\u001b[49m\u001b[43m \u001b[49m\u001b[38;5;28;43mmap\u001b[39;49m\u001b[43m(\u001b[49m\u001b[38;5;28;43mset\u001b[39;49m\u001b[43m,\u001b[49m\u001b[43m \u001b[49m\u001b[43msg\u001b[49m\u001b[43m)\u001b[49m\u001b[43m)\u001b[49m) \u001b[38;5;66;03m# list if the names of fields in the index\u001b[39;00m\n\u001b[1;32m    248\u001b[0m     ae \u001b[38;5;241m=\u001b[39m df\u001b[38;5;241m.\u001b[39mpivot_table(index \u001b[38;5;241m=\u001b[39m indexnames, values \u001b[38;5;241m=\u001b[39m [a,e], aggfunc\u001b[38;5;241m=\u001b[39mnp\u001b[38;5;241m.\u001b[39msum)\n\u001b[1;32m    249\u001b[0m     ae \u001b[38;5;241m=\u001b[39m ae[a] \u001b[38;5;241m/\u001b[39m ae[e]\n",
      "\u001b[0;31mTypeError\u001b[0m: reduce() of empty iterable with no initial value"
     ]
    }
   ],
   "source": [
    "m.compareFactorsAE()"
   ]
  },
  {
   "cell_type": "code",
   "execution_count": 12,
   "id": "20a15a12-b5bc-4101-b305-073f26613b37",
   "metadata": {},
   "outputs": [],
   "source": [
    "coefOrig = m.getCoef()"
   ]
  },
  {
   "cell_type": "code",
   "execution_count": 36,
   "id": "620ee6b3-c1eb-4cf7-9554-4ec20ab1a2aa",
   "metadata": {},
   "outputs": [
    {
     "data": {
      "text/plain": [
       " 5 yr             3.0820e-02\n",
       "10 yr             3.9954e-02\n",
       "15 yr             9.6909e-02\n",
       "25 yr             2.3994e-01\n",
       "30 yr             3.4621e-02\n",
       "Not Level Term   -1.3419e-01\n",
       "Unknown           2.3679e-04\n",
       "Name: coef, dtype: float64"
      ]
     },
     "execution_count": 36,
     "metadata": {},
     "output_type": "execute_result"
    }
   ],
   "source": [
    "pd.options.display.float_format = '{:,.4e}'.format\n",
    "coefOrig[2]"
   ]
  },
  {
   "cell_type": "code",
   "execution_count": 25,
   "id": "972c3159-f7e2-4395-be0f-87d516b7e2a1",
   "metadata": {},
   "outputs": [],
   "source": [
    "import ilectools"
   ]
  },
  {
   "cell_type": "code",
   "execution_count": 31,
   "id": "d2cbd9ea-faed-4d9c-8a9e-ea5225f796a2",
   "metadata": {},
   "outputs": [
    {
     "data": {
      "text/plain": [
       "[]"
      ]
     },
     "execution_count": 31,
     "metadata": {},
     "output_type": "execute_result"
    }
   ],
   "source": [
    "list(list(ilectools.glmtools.getSubgraphs(coefOrig))[0])"
   ]
  },
  {
   "cell_type": "code",
   "execution_count": 34,
   "id": "dd218905-70d1-44a8-80ac-7aa5d272ad49",
   "metadata": {},
   "outputs": [
    {
     "ename": "TypeError",
     "evalue": "reduce() of empty iterable with no initial value",
     "output_type": "error",
     "traceback": [
      "\u001b[0;31m---------------------------------------------------------------------------\u001b[0m",
      "\u001b[0;31mTypeError\u001b[0m                                 Traceback (most recent call last)",
      "Input \u001b[0;32mIn [34]\u001b[0m, in \u001b[0;36m<cell line: 1>\u001b[0;34m()\u001b[0m\n\u001b[0;32m----> 1\u001b[0m \u001b[43mm\u001b[49m\u001b[38;5;241;43m.\u001b[39;49m\u001b[43mcompareFactorsAE\u001b[49m\u001b[43m(\u001b[49m\u001b[43m)\u001b[49m\n",
      "File \u001b[0;32m~/dev/ILECTools/ilectools/glmtools.py:247\u001b[0m, in \u001b[0;36mGLMRun.compareFactorsAE\u001b[0;34m(self, *args, **kwargs)\u001b[0m\n\u001b[1;32m    245\u001b[0m comp \u001b[38;5;241m=\u001b[39m []\n\u001b[1;32m    246\u001b[0m \u001b[38;5;28;01mfor\u001b[39;00m sg \u001b[38;5;129;01min\u001b[39;00m getSubgraphs(coefOrig): \u001b[38;5;66;03m# must group the coefficients into groups that will be added together\u001b[39;00m\n\u001b[0;32m--> 247\u001b[0m     indexnames \u001b[38;5;241m=\u001b[39m \u001b[38;5;28mlist\u001b[39m(\u001b[43mreduce\u001b[49m\u001b[43m(\u001b[49m\u001b[38;5;28;43mset\u001b[39;49m\u001b[38;5;241;43m.\u001b[39;49m\u001b[43munion\u001b[49m\u001b[43m,\u001b[49m\u001b[43m \u001b[49m\u001b[38;5;28;43mmap\u001b[39;49m\u001b[43m(\u001b[49m\u001b[38;5;28;43mset\u001b[39;49m\u001b[43m,\u001b[49m\u001b[43m \u001b[49m\u001b[43msg\u001b[49m\u001b[43m)\u001b[49m\u001b[43m)\u001b[49m) \u001b[38;5;66;03m# list if the names of fields in the index\u001b[39;00m\n\u001b[1;32m    248\u001b[0m     ae \u001b[38;5;241m=\u001b[39m df\u001b[38;5;241m.\u001b[39mpivot_table(index \u001b[38;5;241m=\u001b[39m indexnames, values \u001b[38;5;241m=\u001b[39m [a,e], aggfunc\u001b[38;5;241m=\u001b[39mnp\u001b[38;5;241m.\u001b[39msum)\n\u001b[1;32m    249\u001b[0m     ae \u001b[38;5;241m=\u001b[39m ae[a] \u001b[38;5;241m/\u001b[39m ae[e]\n",
      "\u001b[0;31mTypeError\u001b[0m: reduce() of empty iterable with no initial value"
     ]
    }
   ],
   "source": [
    "m.compareFactorsAE()"
   ]
  },
  {
   "cell_type": "code",
   "execution_count": 33,
   "id": "697c6eed-f4c1-44f2-92a4-216cb792c800",
   "metadata": {},
   "outputs": [
    {
     "ename": "TypeError",
     "evalue": "reduce() of empty iterable with no initial value",
     "output_type": "error",
     "traceback": [
      "\u001b[0;31m---------------------------------------------------------------------------\u001b[0m",
      "\u001b[0;31mTypeError\u001b[0m                                 Traceback (most recent call last)",
      "Input \u001b[0;32mIn [33]\u001b[0m, in \u001b[0;36m<cell line: 1>\u001b[0;34m()\u001b[0m\n\u001b[0;32m----> 1\u001b[0m \u001b[43mm\u001b[49m\u001b[38;5;241;43m.\u001b[39;49m\u001b[43mshowFactorsVsTableBetweenCatgories\u001b[49m\u001b[43m(\u001b[49m\u001b[43mplot\u001b[49m\u001b[38;5;241;43m=\u001b[39;49m\u001b[38;5;28;43;01mFalse\u001b[39;49;00m\u001b[43m)\u001b[49m\n",
      "File \u001b[0;32m~/dev/ILECTools/ilectools/glmtools.py:299\u001b[0m, in \u001b[0;36mGLMRun.showFactorsVsTableBetweenCatgories\u001b[0;34m(self, *args, **kwargs)\u001b[0m\n\u001b[1;32m    284\u001b[0m \u001b[38;5;124;03m\"\"\"Plot ratios of combinations of factors, allowing visualization of differences where they're off between actual/table between categories and the factors for those categories.\u001b[39;00m\n\u001b[1;32m    285\u001b[0m \n\u001b[1;32m    286\u001b[0m \u001b[38;5;124;03mkwargs:\u001b[39;00m\n\u001b[0;32m   (...)\u001b[0m\n\u001b[1;32m    292\u001b[0m \n\u001b[1;32m    293\u001b[0m \u001b[38;5;124;03m\"\"\"\u001b[39;00m\n\u001b[1;32m    295\u001b[0m t \u001b[38;5;241m=\u001b[39m \u001b[38;5;28mself\u001b[39m\n\u001b[1;32m    297\u001b[0m res \u001b[38;5;241m=\u001b[39m {( \u001b[38;5;28mstr\u001b[39m(c\u001b[38;5;241m.\u001b[39mindex\u001b[38;5;241m.\u001b[39mto_native_types()[a])\n\u001b[1;32m    298\u001b[0m         ,\u001b[38;5;28mstr\u001b[39m(c\u001b[38;5;241m.\u001b[39mindex\u001b[38;5;241m.\u001b[39mto_native_types()[b])):(c\u001b[38;5;241m.\u001b[39miloc[a]\u001b[38;5;241m/\u001b[39mc\u001b[38;5;241m.\u001b[39miloc[b])\n\u001b[0;32m--> 299\u001b[0m          \u001b[38;5;28;01mfor\u001b[39;00m c \u001b[38;5;129;01min\u001b[39;00m \u001b[43mt\u001b[49m\u001b[38;5;241;43m.\u001b[39;49m\u001b[43mcompareFactorsAE\u001b[49m\u001b[43m(\u001b[49m\u001b[43m)\u001b[49m\n\u001b[1;32m    300\u001b[0m          \u001b[38;5;28;01mfor\u001b[39;00m a,b \u001b[38;5;129;01min\u001b[39;00m itertools\u001b[38;5;241m.\u001b[39mcombinations(\u001b[38;5;28mrange\u001b[39m(\u001b[38;5;28mlen\u001b[39m(c)),\u001b[38;5;241m2\u001b[39m)\n\u001b[1;32m    301\u001b[0m                               } \u001b[38;5;66;03m# all combinations between rows\u001b[39;00m\n\u001b[1;32m    302\u001b[0m res \u001b[38;5;241m=\u001b[39m  pd\u001b[38;5;241m.\u001b[39mDataFrame(res)\u001b[38;5;241m.\u001b[39mT\n\u001b[1;32m    303\u001b[0m res\u001b[38;5;241m.\u001b[39mindex\u001b[38;5;241m.\u001b[39mnames \u001b[38;5;241m=\u001b[39m [\u001b[38;5;124m'\u001b[39m\u001b[38;5;124mnumerator\u001b[39m\u001b[38;5;124m'\u001b[39m,\u001b[38;5;124m'\u001b[39m\u001b[38;5;124mdeonominator\u001b[39m\u001b[38;5;124m'\u001b[39m]\n",
      "File \u001b[0;32m~/dev/ILECTools/ilectools/glmtools.py:247\u001b[0m, in \u001b[0;36mGLMRun.compareFactorsAE\u001b[0;34m(self, *args, **kwargs)\u001b[0m\n\u001b[1;32m    245\u001b[0m comp \u001b[38;5;241m=\u001b[39m []\n\u001b[1;32m    246\u001b[0m \u001b[38;5;28;01mfor\u001b[39;00m sg \u001b[38;5;129;01min\u001b[39;00m getSubgraphs(coefOrig): \u001b[38;5;66;03m# must group the coefficients into groups that will be added together\u001b[39;00m\n\u001b[0;32m--> 247\u001b[0m     indexnames \u001b[38;5;241m=\u001b[39m \u001b[38;5;28mlist\u001b[39m(\u001b[43mreduce\u001b[49m\u001b[43m(\u001b[49m\u001b[38;5;28;43mset\u001b[39;49m\u001b[38;5;241;43m.\u001b[39;49m\u001b[43munion\u001b[49m\u001b[43m,\u001b[49m\u001b[43m \u001b[49m\u001b[38;5;28;43mmap\u001b[39;49m\u001b[43m(\u001b[49m\u001b[38;5;28;43mset\u001b[39;49m\u001b[43m,\u001b[49m\u001b[43m \u001b[49m\u001b[43msg\u001b[49m\u001b[43m)\u001b[49m\u001b[43m)\u001b[49m) \u001b[38;5;66;03m# list if the names of fields in the index\u001b[39;00m\n\u001b[1;32m    248\u001b[0m     ae \u001b[38;5;241m=\u001b[39m df\u001b[38;5;241m.\u001b[39mpivot_table(index \u001b[38;5;241m=\u001b[39m indexnames, values \u001b[38;5;241m=\u001b[39m [a,e], aggfunc\u001b[38;5;241m=\u001b[39mnp\u001b[38;5;241m.\u001b[39msum)\n\u001b[1;32m    249\u001b[0m     ae \u001b[38;5;241m=\u001b[39m ae[a] \u001b[38;5;241m/\u001b[39m ae[e]\n",
      "\u001b[0;31mTypeError\u001b[0m: reduce() of empty iterable with no initial value"
     ]
    }
   ],
   "source": [
    "m.showFactorsVsTableBetweenCatgories(plot=False)"
   ]
  },
  {
   "cell_type": "code",
   "execution_count": null,
   "id": "b08ca761-08f6-4a1c-a411-0604dc24e065",
   "metadata": {},
   "outputs": [],
   "source": []
  },
  {
   "cell_type": "markdown",
   "id": "42388534-8186-4076-93a2-04e9d3c0d3a4",
   "metadata": {},
   "source": [
    "# End"
   ]
  }
 ],
 "metadata": {
  "kernelspec": {
   "display_name": "Python [conda env:ilec0]",
   "language": "python",
   "name": "conda-env-ilec0-py"
  },
  "language_info": {
   "codemirror_mode": {
    "name": "ipython",
    "version": 3
   },
   "file_extension": ".py",
   "mimetype": "text/x-python",
   "name": "python",
   "nbconvert_exporter": "python",
   "pygments_lexer": "ipython3",
   "version": "3.10.4"
  },
  "toc-autonumbering": true
 },
 "nbformat": 4,
 "nbformat_minor": 5
}
